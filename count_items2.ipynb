{
 "cells": [
  {
   "cell_type": "code",
   "execution_count": null,
   "id": "7ecf7d71",
   "metadata": {},
   "outputs": [],
   "source": [
    "pip install google-colab"
   ]
  },
  {
   "cell_type": "code",
   "execution_count": null,
   "id": "973cfa90",
   "metadata": {},
   "outputs": [],
   "source": [
    "import numpy as np\n",
    "import cv2\n",
    "from google.colab.patches import cv2_imshow\n",
    "img = cv2.imread('/home/cassini/Desktop/download11.jpeg')\n",
    "hsv_img = cv2.cvtColor(img, cv2.COLOR_BGR2HSV)"
   ]
  },
  {
   "cell_type": "code",
   "execution_count": null,
   "id": "39897d1d",
   "metadata": {},
   "outputs": [],
   "source": [
    "lower_red = np.array([0,70,0])\n",
    "upper_red = np.array([40,255,255])\n",
    "mask1 = cv2.inRange(hsv_img, lower_red, upper_red)\n",
    "# Range for upper range\n",
    "lower_red = np.array([170,70,0])\n",
    "upper_red = np.array([180,255,255])\n",
    "mask2 = cv2.inRange(hsv_img,lower_red,upper_red)\n",
    "# mask for lower and upper red\n",
    "mask = mask1 + mask2\n",
    "# Get image in red pixel only\n",
    "redImage = cv2.bitwise_and(img.copy(), img.copy(), mask=mask)"
   ]
  },
  {
   "cell_type": "code",
   "execution_count": null,
   "id": "42cf7398",
   "metadata": {},
   "outputs": [],
   "source": [
    "gray = cv2.cvtColor(redImage, cv2.COLOR_BGR2GRAY)\n",
    "blured = cv2.GaussianBlur(gray,(5,5),0)\n",
    "ret, thresh = cv2.threshold(blured,0,255,cv2.THRESH_BINARY_INV+cv2.THRESH_OTSU)\n"
   ]
  },
  {
   "cell_type": "code",
   "execution_count": null,
   "id": "e2bb18d8",
   "metadata": {},
   "outputs": [],
   "source": [
    "kernel = np.ones((5,5),np.uint8)\n",
    "closing = cv2.morphologyEx(thresh, cv2.MORPH_CLOSE, kernel)"
   ]
  },
  {
   "cell_type": "code",
   "execution_count": null,
   "id": "68472188",
   "metadata": {},
   "outputs": [],
   "source": [
    "contours, hierarchy = cv2.findContours(negative, cv2.RETR_TREE, cv2.CHAIN_APPROX_SIMPLE)\n",
    "hierarchy = hierarchy[0]\n",
    "max_area = cv2.contourArea(contours[0])\n",
    "total = 0 # total contour size\n",
    "for con in contours:\n",
    "     area = cv2.contourArea(con) # get contour size\n",
    "     total += area\n",
    "     if area > max_area:\n",
    "        max_area = area\n",
    "diff = 0.1 # smallest contour have to bigger than (diff * max_area)\n",
    "max_area = int(max_area * diff) # smallest contour have to bigger\n",
    "average = int(total / (len(contours))) # average size for contour\n",
    "radius_avg = int(math.sqrt(average / 3.14)) # average radius \n",
    "\n",
    "average = int(average * diff)"
   ]
  },
  {
   "cell_type": "code",
   "execution_count": null,
   "id": "258a81c8",
   "metadata": {},
   "outputs": [],
   "source": [
    "mask = np.zeros(negative.shape[:2],dtype=np.uint8)\n",
    "for component in zip(contours, hierarchy):\n",
    "     currentContour = component[0]\n",
    "     currentHierarchy = component[1]\n",
    "     area = cv2.contourArea(currentContour)\n",
    "     if currentHierarchy[3] < 0 and if area > average:\n",
    "          cv2.drawContours(mask, [currentContour], 0, (255), -1)"
   ]
  },
  {
   "cell_type": "code",
   "execution_count": null,
   "id": "0b199a72",
   "metadata": {},
   "outputs": [],
   "source": [
    "sure_bg = cv2.erode(mask, kernel)\n",
    "# Finding sure foreground area\n",
    "dist_transform = cv2.distanceTransform(mask,cv2.DIST_L2,5)\n",
    "cv2_imshow(dist_transform)\n",
    "# Draw sure figure from distance transform\n",
    "ret, sure_fg = cv2.threshold(dist_transform,0.2*dist_transform.max(),255,0) \n",
    "# 0.2 is important, the bigger it is, the object is smaller (to the object center)\n",
    "sure_fg = np.uint8(sure_fg)\n",
    "#Find contour for sure figure\n",
    "contours, hierarchy = cv2.findContours(sure_fg.copy(), cv2.RETR_EXTERNAL, cv2.CHAIN_APPROX_SIMPLE)\n",
    "count = 0\n",
    "result = img.copy()\n",
    "for i in range(len(contours)):\n",
    "     if radius[i] > averageRadius * diff_average_radius:\n",
    "         count += 1\n",
    "         cv2.circle(........) # Draw circle\n",
    "         cv2.putText(.......) # Put text\n",
    "cv2_imshow(result)"
   ]
  },
  {
   "cell_type": "code",
   "execution_count": null,
   "id": "8e6ee667",
   "metadata": {},
   "outputs": [],
   "source": []
  }
 ],
 "metadata": {
  "kernelspec": {
   "display_name": "Python 3",
   "language": "python",
   "name": "python3"
  },
  "language_info": {
   "codemirror_mode": {
    "name": "ipython",
    "version": 3
   },
   "file_extension": ".py",
   "mimetype": "text/x-python",
   "name": "python",
   "nbconvert_exporter": "python",
   "pygments_lexer": "ipython3",
   "version": "3.6.9"
  }
 },
 "nbformat": 4,
 "nbformat_minor": 5
}
